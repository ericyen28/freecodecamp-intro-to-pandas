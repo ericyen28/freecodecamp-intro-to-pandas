{
  "cells": [
    {
      "cell_type": "markdown",
      "metadata": {
        "id": "8bQzUMr0oFHE"
      },
      "source": [
        "![rmotr](https://user-images.githubusercontent.com/7065401/52071918-bda15380-2562-11e9-828c-7f95297e4a82.png)\n",
        "<hr style=\"margin-bottom: 40px;\">\n",
        "\n",
        "<img src=\"https://user-images.githubusercontent.com/7065401/75165824-badf4680-5701-11ea-9c5b-5475b0a33abf.png\"\n",
        "    style=\"width:300px; float: right; margin: 0 40px 40px 40px;\"></img>\n",
        "\n",
        "# Pandas - Series\n"
      ]
    },
    {
      "cell_type": "markdown",
      "metadata": {
        "id": "C_1Nx17eoFHH"
      },
      "source": [
        "![purple-divider](https://user-images.githubusercontent.com/7065401/52071927-c1cd7100-2562-11e9-908a-dde91ba14e59.png)\n",
        "\n",
        "## Hands on! "
      ]
    },
    {
      "cell_type": "code",
      "execution_count": 1,
      "metadata": {
        "id": "WS32_-qOoFHI"
      },
      "outputs": [],
      "source": [
        "import pandas as pd\n",
        "import numpy as np"
      ]
    },
    {
      "cell_type": "markdown",
      "metadata": {
        "id": "Jw7KQo0HoFHJ"
      },
      "source": [
        "## Pandas Series\n",
        "\n",
        "We'll start analyzing \"[The Group of Seven](https://en.wikipedia.org/wiki/Group_of_Seven)\". Which is a political formed by Canada, France, Germany, Italy, Japan, the United Kingdom and the United States. We'll start by analyzing population, and for that, we'll use a `pandas.Series` object."
      ]
    },
    {
      "cell_type": "code",
      "execution_count": 2,
      "metadata": {
        "id": "XQQWptLJoFHJ"
      },
      "outputs": [],
      "source": [
        "# In millions\n",
        "g7_pop = pd.Series([35.467, 63.951, 80.940, 60.665, 127.061, 64.511, 318.523])"
      ]
    },
    {
      "cell_type": "code",
      "execution_count": 3,
      "metadata": {
        "scrolled": true,
        "id": "BB8SyuYIoFHJ",
        "outputId": "793e0b29-5bf2-47f8-991d-3be52d3c7d66",
        "colab": {
          "base_uri": "https://localhost:8080/"
        }
      },
      "outputs": [
        {
          "output_type": "execute_result",
          "data": {
            "text/plain": [
              "0     35.467\n",
              "1     63.951\n",
              "2     80.940\n",
              "3     60.665\n",
              "4    127.061\n",
              "5     64.511\n",
              "6    318.523\n",
              "dtype: float64"
            ]
          },
          "metadata": {},
          "execution_count": 3
        }
      ],
      "source": [
        "g7_pop"
      ]
    },
    {
      "cell_type": "markdown",
      "metadata": {
        "id": "EA3tYJ53oFHJ"
      },
      "source": [
        "Someone might not know we're representing population in millions of inhabitants. Series can have a `name`, to better document the purpose of the Series:"
      ]
    },
    {
      "cell_type": "code",
      "execution_count": 4,
      "metadata": {
        "id": "m_Lrra6poFHK"
      },
      "outputs": [],
      "source": [
        "g7_pop.name = 'G7 Population in millions'"
      ]
    },
    {
      "cell_type": "code",
      "execution_count": 5,
      "metadata": {
        "id": "ZMWG78iKoFHK",
        "outputId": "511c4122-8e87-4d42-a84c-65bccf89026f",
        "colab": {
          "base_uri": "https://localhost:8080/"
        }
      },
      "outputs": [
        {
          "output_type": "execute_result",
          "data": {
            "text/plain": [
              "0     35.467\n",
              "1     63.951\n",
              "2     80.940\n",
              "3     60.665\n",
              "4    127.061\n",
              "5     64.511\n",
              "6    318.523\n",
              "Name: G7 Population in millions, dtype: float64"
            ]
          },
          "metadata": {},
          "execution_count": 5
        }
      ],
      "source": [
        "g7_pop"
      ]
    },
    {
      "cell_type": "markdown",
      "metadata": {
        "id": "ylUUP3xWoFHK"
      },
      "source": [
        "Series are pretty similar to numpy arrays:"
      ]
    },
    {
      "cell_type": "code",
      "execution_count": 6,
      "metadata": {
        "id": "sBYiodDVoFHL",
        "outputId": "09e53378-eecf-45ef-8c91-8b5531ef8197",
        "colab": {
          "base_uri": "https://localhost:8080/"
        }
      },
      "outputs": [
        {
          "output_type": "execute_result",
          "data": {
            "text/plain": [
              "dtype('float64')"
            ]
          },
          "metadata": {},
          "execution_count": 6
        }
      ],
      "source": [
        "g7_pop.dtype"
      ]
    },
    {
      "cell_type": "code",
      "execution_count": 7,
      "metadata": {
        "id": "AJ3eWrW3oFHL",
        "outputId": "c62b9255-4e57-4655-f0e3-53304820b981",
        "colab": {
          "base_uri": "https://localhost:8080/"
        }
      },
      "outputs": [
        {
          "output_type": "execute_result",
          "data": {
            "text/plain": [
              "array([ 35.467,  63.951,  80.94 ,  60.665, 127.061,  64.511, 318.523])"
            ]
          },
          "metadata": {},
          "execution_count": 7
        }
      ],
      "source": [
        "g7_pop.values"
      ]
    },
    {
      "cell_type": "markdown",
      "metadata": {
        "id": "IqFlOrA5oFHL"
      },
      "source": [
        "They're actually backed by numpy arrays:"
      ]
    },
    {
      "cell_type": "code",
      "execution_count": 8,
      "metadata": {
        "id": "6mbxwV70oFHL",
        "outputId": "2d6966d8-241a-4727-c75f-5243b614519b",
        "colab": {
          "base_uri": "https://localhost:8080/"
        }
      },
      "outputs": [
        {
          "output_type": "execute_result",
          "data": {
            "text/plain": [
              "numpy.ndarray"
            ]
          },
          "metadata": {},
          "execution_count": 8
        }
      ],
      "source": [
        "type(g7_pop.values)"
      ]
    },
    {
      "cell_type": "markdown",
      "metadata": {
        "id": "m_OpXPlaoFHM"
      },
      "source": [
        "And they _look_ like simple Python lists or Numpy Arrays. But they're actually more similar to Python `dict`s.\n",
        "\n",
        "A Series has an `index`, that's similar to the automatic index assigned to Python's lists:"
      ]
    },
    {
      "cell_type": "code",
      "execution_count": 9,
      "metadata": {
        "id": "3i13gZqHoFHM",
        "outputId": "382797f2-795d-430e-f973-c0675ebce5c3",
        "colab": {
          "base_uri": "https://localhost:8080/"
        }
      },
      "outputs": [
        {
          "output_type": "execute_result",
          "data": {
            "text/plain": [
              "35.467"
            ]
          },
          "metadata": {},
          "execution_count": 9
        }
      ],
      "source": [
        "g7_pop[0]"
      ]
    },
    {
      "cell_type": "code",
      "execution_count": 10,
      "metadata": {
        "id": "WW7H_12goFHM",
        "outputId": "8da233f9-bd58-4d21-f132-26b94dcf34ea",
        "colab": {
          "base_uri": "https://localhost:8080/"
        }
      },
      "outputs": [
        {
          "output_type": "execute_result",
          "data": {
            "text/plain": [
              "63.951"
            ]
          },
          "metadata": {},
          "execution_count": 10
        }
      ],
      "source": [
        "g7_pop[1]"
      ]
    },
    {
      "cell_type": "code",
      "execution_count": 11,
      "metadata": {
        "id": "SS_r1XGooFHM",
        "outputId": "cdbe7e84-e421-45e2-ccfd-ad7c39dda079",
        "colab": {
          "base_uri": "https://localhost:8080/"
        }
      },
      "outputs": [
        {
          "output_type": "execute_result",
          "data": {
            "text/plain": [
              "RangeIndex(start=0, stop=7, step=1)"
            ]
          },
          "metadata": {},
          "execution_count": 11
        }
      ],
      "source": [
        "g7_pop.index"
      ]
    },
    {
      "cell_type": "markdown",
      "metadata": {
        "id": "Ib3RtKpCoFHM"
      },
      "source": [
        "But, in contrast to lists, we can explicitly define the index:"
      ]
    },
    {
      "cell_type": "code",
      "execution_count": 12,
      "metadata": {
        "id": "fK4qYaiioFHM"
      },
      "outputs": [],
      "source": [
        "g7_pop.index = [\n",
        "    'Canada',\n",
        "    'France',\n",
        "    'Germany',\n",
        "    'Italy',\n",
        "    'Japan',\n",
        "    'United Kingdom',\n",
        "    'United States',\n",
        "]"
      ]
    },
    {
      "cell_type": "code",
      "execution_count": 13,
      "metadata": {
        "id": "yuzEF5uvoFHM",
        "outputId": "8700946b-2014-4491-9c99-67738ba1fee5",
        "colab": {
          "base_uri": "https://localhost:8080/"
        }
      },
      "outputs": [
        {
          "output_type": "execute_result",
          "data": {
            "text/plain": [
              "Canada             35.467\n",
              "France             63.951\n",
              "Germany            80.940\n",
              "Italy              60.665\n",
              "Japan             127.061\n",
              "United Kingdom     64.511\n",
              "United States     318.523\n",
              "Name: G7 Population in millions, dtype: float64"
            ]
          },
          "metadata": {},
          "execution_count": 13
        }
      ],
      "source": [
        "g7_pop"
      ]
    },
    {
      "cell_type": "markdown",
      "metadata": {
        "id": "7g9ikLGIoFHN"
      },
      "source": [
        "Compare it with the [following table](https://docs.google.com/spreadsheets/d/1IlorV2-Oh9Da1JAZ7weVw86PQrQydSMp-ydVMH135iI/edit?usp=sharing): \n",
        "\n",
        "<img width=\"350\" src=\"https://user-images.githubusercontent.com/872296/38149656-b5ce9816-3431-11e8-88e4-195756e25355.png\" />\n",
        "\n",
        "We can say that Series look like \"ordered dictionaries\". We can actually create Series out of dictionaries:"
      ]
    },
    {
      "cell_type": "code",
      "execution_count": 14,
      "metadata": {
        "scrolled": true,
        "id": "CX1LHdaXoFHN",
        "outputId": "ec71c1eb-6cb9-484c-c9b8-3300834ee63a",
        "colab": {
          "base_uri": "https://localhost:8080/"
        }
      },
      "outputs": [
        {
          "output_type": "execute_result",
          "data": {
            "text/plain": [
              "Canada             35.467\n",
              "France             63.951\n",
              "Germany            80.940\n",
              "Italy              60.665\n",
              "Japan             127.061\n",
              "United Kingdom     64.511\n",
              "United States     318.523\n",
              "Name: G7 Population in millions, dtype: float64"
            ]
          },
          "metadata": {},
          "execution_count": 14
        }
      ],
      "source": [
        "pd.Series({\n",
        "    'Canada': 35.467,\n",
        "    'France': 63.951,\n",
        "    'Germany': 80.94,\n",
        "    'Italy': 60.665,\n",
        "    'Japan': 127.061,\n",
        "    'United Kingdom': 64.511,\n",
        "    'United States': 318.523\n",
        "}, name='G7 Population in millions')"
      ]
    },
    {
      "cell_type": "code",
      "execution_count": 15,
      "metadata": {
        "id": "fma2pz0YoFHN",
        "outputId": "4d25fc0a-6eb5-46ff-daa7-098a864a16d3",
        "colab": {
          "base_uri": "https://localhost:8080/"
        }
      },
      "outputs": [
        {
          "output_type": "execute_result",
          "data": {
            "text/plain": [
              "Canada             35.467\n",
              "France             63.951\n",
              "Germany            80.940\n",
              "Italy              60.665\n",
              "Japan             127.061\n",
              "United Kingdom     64.511\n",
              "United States     318.523\n",
              "Name: G7 Population in millions, dtype: float64"
            ]
          },
          "metadata": {},
          "execution_count": 15
        }
      ],
      "source": [
        "pd.Series(\n",
        "    [35.467, 63.951, 80.94, 60.665, 127.061, 64.511, 318.523],\n",
        "    index=['Canada', 'France', 'Germany', 'Italy', 'Japan', 'United Kingdom',\n",
        "       'United States'],\n",
        "    name='G7 Population in millions')"
      ]
    },
    {
      "cell_type": "markdown",
      "metadata": {
        "id": "GEvpS4wEoFHN"
      },
      "source": [
        "You can also create Series out of other series, specifying indexes:"
      ]
    },
    {
      "cell_type": "code",
      "execution_count": 16,
      "metadata": {
        "scrolled": false,
        "id": "uotXhFfOoFHN",
        "outputId": "8d5860a2-806b-450a-fbe2-b6b133b79d0b",
        "colab": {
          "base_uri": "https://localhost:8080/"
        }
      },
      "outputs": [
        {
          "output_type": "execute_result",
          "data": {
            "text/plain": [
              "France     63.951\n",
              "Germany    80.940\n",
              "Italy      60.665\n",
              "Spain         NaN\n",
              "Name: G7 Population in millions, dtype: float64"
            ]
          },
          "metadata": {},
          "execution_count": 16
        }
      ],
      "source": [
        "pd.Series(g7_pop, index=['France', 'Germany', 'Italy', 'Spain'])"
      ]
    },
    {
      "cell_type": "markdown",
      "metadata": {
        "id": "-NUSt90EoFHN"
      },
      "source": [
        "![green-divider](https://user-images.githubusercontent.com/7065401/52071924-c003ad80-2562-11e9-8297-1c6595f8a7ff.png)\n",
        "\n",
        "## Indexing\n",
        "\n",
        "Indexing works similarly to lists and dictionaries, you use the **index** of the element you're looking for:"
      ]
    },
    {
      "cell_type": "code",
      "execution_count": 17,
      "metadata": {
        "id": "e_89LMeaoFHN",
        "outputId": "ce6c6361-382a-4a92-d5e6-edbece10e98c",
        "colab": {
          "base_uri": "https://localhost:8080/"
        }
      },
      "outputs": [
        {
          "output_type": "execute_result",
          "data": {
            "text/plain": [
              "35.467"
            ]
          },
          "metadata": {},
          "execution_count": 17
        }
      ],
      "source": [
        "g7_pop['Canada']"
      ]
    },
    {
      "cell_type": "code",
      "execution_count": 18,
      "metadata": {
        "id": "ctH04ubjoFHN",
        "outputId": "2680387f-11e1-49d5-8ee0-1c5570d6056f",
        "colab": {
          "base_uri": "https://localhost:8080/"
        }
      },
      "outputs": [
        {
          "output_type": "execute_result",
          "data": {
            "text/plain": [
              "127.061"
            ]
          },
          "metadata": {},
          "execution_count": 18
        }
      ],
      "source": [
        "g7_pop['Japan']"
      ]
    },
    {
      "cell_type": "markdown",
      "metadata": {
        "id": "ALJoR8sxoFHO"
      },
      "source": [
        "Numeric positions can also be used, with the `iloc` attribute:"
      ]
    },
    {
      "cell_type": "code",
      "execution_count": 19,
      "metadata": {
        "id": "Sv-XiLu6oFHO",
        "outputId": "1696b5bf-a5c6-4a47-db30-6bbfdf43fdab",
        "colab": {
          "base_uri": "https://localhost:8080/"
        }
      },
      "outputs": [
        {
          "output_type": "execute_result",
          "data": {
            "text/plain": [
              "35.467"
            ]
          },
          "metadata": {},
          "execution_count": 19
        }
      ],
      "source": [
        "g7_pop.iloc[0]"
      ]
    },
    {
      "cell_type": "code",
      "execution_count": 20,
      "metadata": {
        "scrolled": true,
        "id": "hgIPY1ZeoFHO",
        "outputId": "b6aaf19d-90cd-492b-82ae-2769bedaf951",
        "colab": {
          "base_uri": "https://localhost:8080/"
        }
      },
      "outputs": [
        {
          "output_type": "execute_result",
          "data": {
            "text/plain": [
              "318.523"
            ]
          },
          "metadata": {},
          "execution_count": 20
        }
      ],
      "source": [
        "g7_pop.iloc[-1]"
      ]
    },
    {
      "cell_type": "markdown",
      "metadata": {
        "id": "dLxYOcFUoFHO"
      },
      "source": [
        "Selecting multiple elements at once:"
      ]
    },
    {
      "cell_type": "code",
      "execution_count": 21,
      "metadata": {
        "scrolled": true,
        "id": "hU8qnJzpoFHO",
        "outputId": "8e39c2f5-25e9-4197-d0eb-0af3c9e9d6f3",
        "colab": {
          "base_uri": "https://localhost:8080/"
        }
      },
      "outputs": [
        {
          "output_type": "execute_result",
          "data": {
            "text/plain": [
              "Italy     60.665\n",
              "France    63.951\n",
              "Name: G7 Population in millions, dtype: float64"
            ]
          },
          "metadata": {},
          "execution_count": 21
        }
      ],
      "source": [
        "g7_pop[['Italy', 'France']]"
      ]
    },
    {
      "cell_type": "markdown",
      "metadata": {
        "id": "ANcJM13YoFHO"
      },
      "source": [
        "_(The result is another Series)_"
      ]
    },
    {
      "cell_type": "code",
      "execution_count": null,
      "metadata": {
        "scrolled": true,
        "id": "UFgiaSJ8oFHO"
      },
      "outputs": [],
      "source": [
        "g7_pop.iloc[[0, 1]]"
      ]
    },
    {
      "cell_type": "markdown",
      "metadata": {
        "id": "d8zsBOvOoFHO"
      },
      "source": [
        "Slicing also works, but **important**, in Pandas, the upper limit is also included:"
      ]
    },
    {
      "cell_type": "code",
      "execution_count": 22,
      "metadata": {
        "scrolled": false,
        "id": "XsqWyAMxoFHO",
        "outputId": "4d05b707-1f64-4243-a47e-652a85c8269b",
        "colab": {
          "base_uri": "https://localhost:8080/"
        }
      },
      "outputs": [
        {
          "output_type": "execute_result",
          "data": {
            "text/plain": [
              "Canada     35.467\n",
              "France     63.951\n",
              "Germany    80.940\n",
              "Italy      60.665\n",
              "Name: G7 Population in millions, dtype: float64"
            ]
          },
          "metadata": {},
          "execution_count": 22
        }
      ],
      "source": [
        "g7_pop['Canada': 'Italy']"
      ]
    },
    {
      "cell_type": "markdown",
      "metadata": {
        "id": "1i1_gOW8oFHP"
      },
      "source": [
        "![green-divider](https://user-images.githubusercontent.com/7065401/52071924-c003ad80-2562-11e9-8297-1c6595f8a7ff.png)\n",
        "\n",
        "## Conditional selection (boolean arrays)\n",
        "\n",
        "The same boolean array techniques we saw applied to numpy arrays can be used for Pandas `Series`:"
      ]
    },
    {
      "cell_type": "code",
      "execution_count": null,
      "metadata": {
        "id": "6VH1MxrfoFHP"
      },
      "outputs": [],
      "source": [
        "g7_pop"
      ]
    },
    {
      "cell_type": "code",
      "execution_count": null,
      "metadata": {
        "id": "7xDvIzFfoFHP"
      },
      "outputs": [],
      "source": [
        "g7_pop > 70"
      ]
    },
    {
      "cell_type": "code",
      "execution_count": null,
      "metadata": {
        "id": "H6wJA2wfoFHP"
      },
      "outputs": [],
      "source": [
        "g7_pop[g7_pop > 70]"
      ]
    },
    {
      "cell_type": "code",
      "execution_count": null,
      "metadata": {
        "id": "p-mrwLEzoFHP"
      },
      "outputs": [],
      "source": [
        "g7_pop.mean()"
      ]
    },
    {
      "cell_type": "code",
      "execution_count": null,
      "metadata": {
        "id": "98zCWsb1oFHP"
      },
      "outputs": [],
      "source": [
        "g7_pop[g7_pop > g7_pop.mean()]"
      ]
    },
    {
      "cell_type": "code",
      "execution_count": null,
      "metadata": {
        "id": "BHVdiL2poFHP"
      },
      "outputs": [],
      "source": [
        "g7_pop.std()"
      ]
    },
    {
      "cell_type": "code",
      "execution_count": null,
      "metadata": {
        "scrolled": true,
        "id": "TLe0SCZaoFHP"
      },
      "outputs": [],
      "source": [
        "g7_pop[(g7_pop > g7_pop.mean() - g7_pop.std() / 2) | (g7_pop > g7_pop.mean() + g7_pop.std() / 2)]"
      ]
    },
    {
      "cell_type": "markdown",
      "metadata": {
        "id": "UXy_wzeRoFHP"
      },
      "source": [
        "![green-divider](https://user-images.githubusercontent.com/7065401/52071924-c003ad80-2562-11e9-8297-1c6595f8a7ff.png)\n",
        "\n",
        "## Operations and methods\n",
        "Series also support vectorized operations and aggregation functions as Numpy:"
      ]
    },
    {
      "cell_type": "code",
      "execution_count": null,
      "metadata": {
        "id": "28RfB_baoFHP"
      },
      "outputs": [],
      "source": [
        "g7_pop * 1_000_000"
      ]
    },
    {
      "cell_type": "code",
      "execution_count": null,
      "metadata": {
        "id": "mCjwDAbkoFHQ"
      },
      "outputs": [],
      "source": [
        "g7_pop.mean()"
      ]
    },
    {
      "cell_type": "code",
      "execution_count": null,
      "metadata": {
        "scrolled": true,
        "id": "4lxVz6oxoFHQ"
      },
      "outputs": [],
      "source": [
        "np.log(g7_pop)"
      ]
    },
    {
      "cell_type": "code",
      "execution_count": null,
      "metadata": {
        "scrolled": false,
        "id": "xIrvlVA3oFHQ"
      },
      "outputs": [],
      "source": [
        "g7_pop['France': 'Italy'].mean()"
      ]
    },
    {
      "cell_type": "markdown",
      "metadata": {
        "id": "cyXWhUdroFHQ"
      },
      "source": [
        "![green-divider](https://user-images.githubusercontent.com/7065401/52071924-c003ad80-2562-11e9-8297-1c6595f8a7ff.png)\n",
        "\n",
        "## Boolean arrays\n",
        "(Work in the same way as numpy)"
      ]
    },
    {
      "cell_type": "code",
      "execution_count": null,
      "metadata": {
        "id": "wD2tamXroFHQ"
      },
      "outputs": [],
      "source": [
        "g7_pop"
      ]
    },
    {
      "cell_type": "code",
      "execution_count": null,
      "metadata": {
        "id": "yyDgUcdpoFHQ"
      },
      "outputs": [],
      "source": [
        "g7_pop > 80"
      ]
    },
    {
      "cell_type": "code",
      "execution_count": null,
      "metadata": {
        "scrolled": true,
        "id": "rVOa-n73oFHQ"
      },
      "outputs": [],
      "source": [
        "g7_pop[g7_pop > 80]"
      ]
    },
    {
      "cell_type": "code",
      "execution_count": null,
      "metadata": {
        "scrolled": true,
        "id": "CKaklv9YoFHQ"
      },
      "outputs": [],
      "source": [
        "g7_pop[(g7_pop > 80) | (g7_pop < 40)]"
      ]
    },
    {
      "cell_type": "code",
      "execution_count": null,
      "metadata": {
        "scrolled": true,
        "id": "KOA7AMz8oFHQ"
      },
      "outputs": [],
      "source": [
        "g7_pop[(g7_pop > 80) & (g7_pop < 200)]"
      ]
    },
    {
      "cell_type": "markdown",
      "metadata": {
        "id": "1cAQ9WxZoFHQ"
      },
      "source": [
        "![green-divider](https://user-images.githubusercontent.com/7065401/52071924-c003ad80-2562-11e9-8297-1c6595f8a7ff.png)\n",
        "\n",
        "## Modifying series\n"
      ]
    },
    {
      "cell_type": "code",
      "execution_count": null,
      "metadata": {
        "id": "PcBZwKq7oFHR"
      },
      "outputs": [],
      "source": [
        "g7_pop['Canada'] = 40.5"
      ]
    },
    {
      "cell_type": "code",
      "execution_count": null,
      "metadata": {
        "id": "7siOE5-yoFHR"
      },
      "outputs": [],
      "source": [
        "g7_pop"
      ]
    },
    {
      "cell_type": "code",
      "execution_count": null,
      "metadata": {
        "id": "H0sZ2xkToFHR"
      },
      "outputs": [],
      "source": [
        "g7_pop.iloc[-1] = 500"
      ]
    },
    {
      "cell_type": "code",
      "execution_count": null,
      "metadata": {
        "scrolled": false,
        "id": "Dx-VZIVioFHR"
      },
      "outputs": [],
      "source": [
        "g7_pop"
      ]
    },
    {
      "cell_type": "code",
      "execution_count": null,
      "metadata": {
        "id": "V56qm0GgoFHR"
      },
      "outputs": [],
      "source": [
        "g7_pop[g7_pop < 70] = 99.99"
      ]
    },
    {
      "cell_type": "code",
      "execution_count": null,
      "metadata": {
        "scrolled": true,
        "id": "ystndYaooFHR"
      },
      "outputs": [],
      "source": [
        "g7_pop"
      ]
    },
    {
      "cell_type": "markdown",
      "metadata": {
        "id": "F9L2HHy1oFHR"
      },
      "source": [
        "![purple-divider](https://user-images.githubusercontent.com/7065401/52071927-c1cd7100-2562-11e9-908a-dde91ba14e59.png)\n"
      ]
    }
  ],
  "metadata": {
    "kernelspec": {
      "display_name": "Python 3",
      "language": "python",
      "name": "python3"
    },
    "language_info": {
      "codemirror_mode": {
        "name": "ipython",
        "version": 3
      },
      "file_extension": ".py",
      "mimetype": "text/x-python",
      "name": "python",
      "nbconvert_exporter": "python",
      "pygments_lexer": "ipython3",
      "version": "3.7.4"
    },
    "colab": {
      "name": "1 - Pandas - Series-checkpoint.ipynb",
      "provenance": []
    }
  },
  "nbformat": 4,
  "nbformat_minor": 0
}